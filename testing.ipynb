{
 "cells": [
  {
   "cell_type": "code",
   "execution_count": 1,
   "metadata": {},
   "outputs": [],
   "source": [
    "from matplotlib import pyplot as plt\n",
    "\n",
    "plt.style.use('ggplot')\n",
    "plt.rcParams['font.family'] = 'sans-serif'\n",
    "plt.rcParams['font.serif'] = 'Ubuntu'\n",
    "plt.rcParams['font.monospace'] = 'Ubuntu Mono'\n",
    "plt.rcParams['font.size'] = 14\n",
    "plt.rcParams['axes.labelsize'] = 12\n",
    "plt.rcParams['axes.labelweight'] = 'bold'\n",
    "plt.rcParams['axes.titlesize'] = 12\n",
    "plt.rcParams['xtick.labelsize'] = 12\n",
    "plt.rcParams['ytick.labelsize'] = 12\n",
    "plt.rcParams['legend.fontsize'] = 12\n",
    "plt.rcParams['figure.titlesize'] = 12\n",
    "plt.rcParams['image.cmap'] = 'jet'\n",
    "plt.rcParams['image.interpolation'] = 'none'\n",
    "plt.rcParams['figure.figsize'] = (12, 10)\n",
    "plt.rcParams['axes.grid']=True\n",
    "plt.rcParams['lines.linewidth'] = 2\n",
    "plt.rcParams['lines.markersize'] = 8\n",
    "colors = ['xkcd:pale orange', 'xkcd:sea blue', 'xkcd:pale red', 'xkcd:sage green', 'xkcd:terra cotta', 'xkcd:dull purple', 'xkcd:teal', 'xkcd: goldenrod', 'xkcd:cadet blue',\n",
    "'xkcd:scarlet']\n",
    "\n",
    "\n",
    "\n",
    "\n",
    "\n",
    "\n",
    "\n",
    "\n",
    "# sc =plt.scatter(x = df_numerical['alt error'],y = df_numerical['az error'],s = df_numerical['lag_time'],c=df['colors'])\n",
    "# # plt.legend([\"Venus\", \"Arcturus\", \"Vega\"])\n",
    "# # plt.legend([ \"Arcturus\", \"Vega\"])\n",
    "# cmap = {'venus':'goldenrod','Arcturus':'saddlebrown','Vega':'deepskyblue'}\n",
    "\n",
    "# lp = lambda i,camp: plt.plot([],color=camp, mec=\"none\",\n",
    "#                         label=f\"{i}\", ls=\"\", marker=\"o\")[0]\n",
    "# handles = [lp(name,cmap[name]) for name in np.unique(df['Name'])]\n",
    "# plt.legend(handles=handles)"
   ]
  },
  {
   "cell_type": "code",
   "execution_count": 2,
   "metadata": {},
   "outputs": [],
   "source": [
    "import numpy as np"
   ]
  },
  {
   "cell_type": "code",
   "execution_count": 8,
   "metadata": {},
   "outputs": [],
   "source": [
    "start = np.array([2307.674,1762.081,-3763.111])\n",
    "end = np.array([3211, 1075,-726])\n",
    "t_s = 15*60+28\n"
   ]
  },
  {
   "cell_type": "code",
   "execution_count": 10,
   "metadata": {},
   "outputs": [],
   "source": [
    "mag=end-start"
   ]
  },
  {
   "cell_type": "code",
   "execution_count": 12,
   "metadata": {},
   "outputs": [
    {
     "data": {
      "text/plain": [
       "3242.240180671074"
      ]
     },
     "execution_count": 12,
     "metadata": {},
     "output_type": "execute_result"
    }
   ],
   "source": [
    "np.linalg.norm(mag)"
   ]
  },
  {
   "cell_type": "code",
   "execution_count": 87,
   "metadata": {},
   "outputs": [],
   "source": [
    "import math\n",
    "\n",
    "def cartesian_to_spherical(x, y, z):\n",
    "    r = math.sqrt(x**2 + y**2 + z**2)\n",
    "    theta = math.atan2(y, x)\n",
    "    phi = math.acos(z / r)\n",
    "    return r, math.degrees(theta), math.degrees(phi)\n",
    "\n",
    "def spherical_to_cartesian(r, theta, phi):\n",
    "    theta = math.radians(theta)\n",
    "    phi= math.radians(phi)\n",
    "\n",
    "    x = r * math.sin(phi) * math.cos(math.radians(theta))\n",
    "    y = r * math.sin(phi) * math.sin(theta)\n",
    "    z = r * math.cos(phi)\n",
    "    return x, y, z"
   ]
  },
  {
   "cell_type": "code",
   "execution_count": 43,
   "metadata": {},
   "outputs": [
    {
     "name": "stdout",
     "output_type": "stream",
     "text": [
      "Start:  (4753.029890412851, 37.36443010087578, 142.3473721781035)\n",
      "End:  (3463.123156920643, 18.509859212922787, 102.10110153570189)\n"
     ]
    }
   ],
   "source": [
    "print(\"Start: \",cartesian_to_spherical(*start))\n",
    "print(\"End: \",cartesian_to_spherical(*end))\n"
   ]
  },
  {
   "cell_type": "code",
   "execution_count": 53,
   "metadata": {},
   "outputs": [],
   "source": [
    "def get_angle_crossed(vect1,vect2):\n",
    "    oo = np.array(cartesian_to_spherical(*vect1)[1:])\n",
    "    pp = np.array(cartesian_to_spherical(*vect2)[1:])\n",
    "    return pp-oo\n"
   ]
  },
  {
   "cell_type": "code",
   "execution_count": 54,
   "metadata": {},
   "outputs": [
    {
     "data": {
      "text/plain": [
       "array([-18.85457089, -40.24627064])"
      ]
     },
     "execution_count": 54,
     "metadata": {},
     "output_type": "execute_result"
    }
   ],
   "source": [
    "get_angle_crossed(start,end)"
   ]
  },
  {
   "cell_type": "code",
   "execution_count": 21,
   "metadata": {},
   "outputs": [],
   "source": [
    "# Given data\n",
    "distances_miles = [2014.72, 1909.70, 395.24, 212.93, 48.70, 13.20, 9.21, 6.53, 2.69, 2.32, 1.4, 0.079411, 0.079237]\n",
    "altitudes_miles = [847.26, 781.63, 81.40, 35.22, 10.04, 8.54, 7.42, 6.05, 2.66, 2.29, 1.36, 0.013725, 0.012468]\n",
    "velocities_mph = [10585.42, 10678.59, 11931.65, 11988.77, 2465.25, 1068.26, 945.35, 363.01, 200.56, 194.76, 182.36, 3.71, 1.68]\n",
    "times_str = [\"15:28\", \"14:53\", \"06:49\", \"05:54\", \"04:29\", \"03:03\", \"02:46\", \"02:25\", \"01:25\", \"01:18\", \"01:00\", \"00:18\", \"00:16\"]\n",
    "\n",
    "mile_to_km = lambda lis: np.array(lis)*1.60934\n",
    "\n",
    "distances_km = mile_to_km(distances_miles) # Distance to the landing spot\n",
    "altitudes_km =mile_to_km(altitudes_miles)  # Altitude above Martian surface\n",
    "velocities_kph = mile_to_km(velocities_mph)  # Velocities in mph\n",
    "times_str = [\"15:28\", \"14:53\", \"06:49\", \"05:54\", \"04:29\", \"03:03\", \"02:46\", \"02:25\", \"01:25\", \"01:18\", \"01:00\", \"00:18\", \"00:16\"]  # Time to touch down \"min:sec\""
   ]
  },
  {
   "cell_type": "code",
   "execution_count": 23,
   "metadata": {},
   "outputs": [
    {
     "data": {
      "text/plain": [
       "array([1.36352941e+03, 1.25790842e+03, 1.31000276e+02, 5.66809548e+01,\n",
       "       1.61577736e+01, 1.37437636e+01, 1.19413028e+01, 9.73650700e+00,\n",
       "       4.28084440e+00, 3.68538860e+00, 2.18870240e+00, 2.20881915e-02,\n",
       "       2.00652511e-02])"
      ]
     },
     "execution_count": 23,
     "metadata": {},
     "output_type": "execute_result"
    }
   ],
   "source": [
    "altitudes_km"
   ]
  },
  {
   "cell_type": "code",
   "execution_count": 48,
   "metadata": {},
   "outputs": [
    {
     "name": "stdout",
     "output_type": "stream",
     "text": [
      "Time: 15:28, Radial Velocity: 10863.87 kph, Tangential Velocity: 13121.96 kph\n",
      "Time: 14:53, Radial Velocity: 8381.96 kph, Tangential Velocity: 15002.78 kph\n",
      "Time: 06:49, Radial Velocity: 4864.54 kph, Tangential Velocity: 18575.69 kph\n",
      "Time: 05:54, Radial Velocity: 1716.28 kph, Tangential Velocity: 19217.52 kph\n",
      "Time: 04:29, Radial Velocity: 101.05 kph, Tangential Velocity: 3966.14 kph\n",
      "Time: 03:03, Radial Velocity: 381.70 kph, Tangential Velocity: 1676.29 kph\n",
      "Time: 02:46, Radial Velocity: 377.96 kph, Tangential Velocity: 1473.69 kph\n",
      "Time: 02:25, Radial Velocity: 327.34 kph, Tangential Velocity: 483.89 kph\n",
      "Time: 01:25, Radial Velocity: 306.23 kph, Tangential Velocity: 101.98 kph\n",
      "Time: 01:18, Radial Velocity: 299.34 kph, Tangential Velocity: 92.94 kph\n",
      "Time: 01:00, Radial Velocity: 185.71 kph, Tangential Velocity: 227.25 kph\n",
      "Time: 00:18, Radial Velocity: 3.64 kph, Tangential Velocity: 4.73 kph\n",
      "Time: 00:16, Radial Velocity: 0.00 kph, Tangential Velocity: 0.00 kph\n"
     ]
    }
   ],
   "source": [
    "import math\n",
    "\n",
    "# # Given data\n",
    "# distances_miles = [2014.72, 1909.70, 395.24, 212.93, 48.70, 13.20, 9.21, 6.53, 2.69, 2.32, 1.4, 0.079411, 0.079237]\n",
    "# altitudes_miles = [847.26, 781.63, 81.40, 35.22, 10.04, 8.54, 7.42, 6.05, 2.66, 2.29, 1.36, 0.013725, 0.012468]\n",
    "# velocities_kph = [10585.42, 10678.59, 11931.65, 11988.77, 2465.25, 1068.26, 945.35, 363.01, 200.56, 194.76, 182.36, 3.71, 1.68]\n",
    "# times_str = [\"15:28\", \"14:53\", \"06:49\", \"05:54\", \"04:29\", \"03:03\", \"02:46\", \"02:25\", \"01:25\", \"01:18\", \"01:00\", \"00:18\", \"00:16\"]\n",
    "\n",
    "# Convert time strings to seconds\n",
    "def time_to_seconds(time_str):\n",
    "    minutes, seconds = map(int, time_str.split(\":\"))\n",
    "    return minutes * 60 + seconds\n",
    "\n",
    "times_seconds = [time_to_seconds(time) for time in times_str]\n",
    "\n",
    "# Calculate radial distances\n",
    "radii_km = altitudes_km +3389.5 \n",
    "\n",
    "\n",
    "# Calculate radial velocities\n",
    "def compute_radial_tangential_velocities(radii, velocities, times):\n",
    "    radial_velocities = []\n",
    "    tangential_velocities = []\n",
    "    \n",
    "    for i in range(len(radii) - 1):\n",
    "        dr = radii[i] - radii[i+1]\n",
    "        dt = times[i] - times[i+1]\n",
    "        vr = dr / dt * 3600  # converting from miles per second to miles per hour\n",
    "        # print(radii,'\\n\\n',radii[i])\n",
    "        # print(vr**2)\n",
    "        vt = math.sqrt(velocities[i]**2 - vr**2)\n",
    "        \n",
    "        radial_velocities.append(vr)\n",
    "        tangential_velocities.append(vt)\n",
    "    \n",
    "    # Append 0 for the final point as there's no next point to compare\n",
    "    radial_velocities.append(0)\n",
    "    tangential_velocities.append(0)\n",
    "    \n",
    "    return radial_velocities, tangential_velocities\n",
    "\n",
    "\n",
    "\n",
    "\n",
    "    \n",
    "\n",
    "\n",
    "\n",
    "\n",
    "radial_velocities, tangential_velocities = compute_radial_tangential_velocities(radii_km, velocities_kph, times_seconds)\n",
    "\n",
    "# Print the results\n",
    "for i in range(len(tangential_velocities)):\n",
    "    print(f\"Time: {times_str[i]}, Radial Velocity: {radial_velocities[i]:.2f} kph, Tangential Velocity: {tangential_velocities[i]:.2f} kph\")\n"
   ]
  },
  {
   "cell_type": "code",
   "execution_count": 49,
   "metadata": {},
   "outputs": [
    {
     "name": "stdout",
     "output_type": "stream",
     "text": [
      "Time: 15:28, distance tangent: 459268.67 kph, Tangential Velocity: 13121.96 kph\n",
      "Time: 14:53, distance tangent: 7261347.25 kph, Tangential Velocity: 15002.78 kph\n",
      "Time: 06:49, distance tangent: 1021662.88 kph, Tangential Velocity: 18575.69 kph\n",
      "Time: 05:54, distance tangent: 1633489.27 kph, Tangential Velocity: 19217.52 kph\n",
      "Time: 04:29, distance tangent: 341087.90 kph, Tangential Velocity: 3966.14 kph\n",
      "Time: 03:03, distance tangent: 28496.86 kph, Tangential Velocity: 1676.29 kph\n",
      "Time: 02:46, distance tangent: 30947.54 kph, Tangential Velocity: 1473.69 kph\n",
      "Time: 02:25, distance tangent: 29033.18 kph, Tangential Velocity: 483.89 kph\n",
      "Time: 01:25, distance tangent: 713.88 kph, Tangential Velocity: 101.98 kph\n",
      "Time: 01:18, distance tangent: 1673.01 kph, Tangential Velocity: 92.94 kph\n",
      "Time: 01:00, distance tangent: 9544.44 kph, Tangential Velocity: 227.25 kph\n",
      "Time: 00:18, distance tangent: 9.46 kph, Tangential Velocity: 4.73 kph\n"
     ]
    }
   ],
   "source": [
    "def compute_distanc(radial_velocities, tangential_velocities, times):\n",
    "\n",
    "    dist_tangent = []\n",
    "\n",
    "    for i in range(len(tangential_velocities) - 1):\n",
    "        dt = times[i] - times[i+1]\n",
    "        vr = radial_velocities  # converting from miles per second to miles per hour\n",
    "        # print(radii,'\\n\\n',radii[i])\n",
    "        # print(vr**2)\n",
    "        vt = tangential_velocities[i]\n",
    "\n",
    "\n",
    "        dist_tangent.append(dt*vt)\n",
    "\n",
    "    return dist_tangent\n",
    "\n",
    "\n",
    "dist_tangent = compute_distanc(radial_velocities, tangential_velocities, times_seconds)\n",
    "# Print the results\n",
    "\n",
    "for i in range(len(dist_tangent)):\n",
    "    print(f\"Time: {times_str[i]}, distance tangent: {dist_tangent[i]:.2f} kph, Tangential Velocity: {tangential_velocities[i]:.2f} kph\")"
   ]
  },
  {
   "cell_type": "code",
   "execution_count": 50,
   "metadata": {},
   "outputs": [
    {
     "data": {
      "text/plain": [
       "10817274.33620846"
      ]
     },
     "execution_count": 50,
     "metadata": {},
     "output_type": "execute_result"
    }
   ],
   "source": [
    "sum(dist_tangent)"
   ]
  },
  {
   "cell_type": "code",
   "execution_count": 57,
   "metadata": {},
   "outputs": [],
   "source": [
    "def get_change_in_angle(start,end,dist_tangent):\n",
    "    total_angle_change = get_angle_crossed(start,end)\n",
    "    total_distance = sum(dist_tangent)\\\n",
    "    \n",
    "    angles_in_km =  total_angle_change/total_distance\n",
    "\n",
    "    angles = []\n",
    "    for i in range(len(dist_tangent)):\n",
    "        dist = dist_tangent[i]\n",
    "        angle = angles_in_km * dist\n",
    "\n",
    "        angles.append(angle)\n",
    "\n",
    "\n",
    "\n",
    "    return angles\n",
    "    "
   ]
  },
  {
   "cell_type": "code",
   "execution_count": 59,
   "metadata": {},
   "outputs": [
    {
     "data": {
      "text/plain": [
       "[array([-0.80050791, -1.70873463]),\n",
       " array([-12.65656969, -27.01624621]),\n",
       " array([-1.78076424, -3.80115357]),\n",
       " array([-2.84718112, -6.07748766]),\n",
       " array([-0.59451815, -1.26903648]),\n",
       " array([-0.04967018, -0.10602413]),\n",
       " array([-0.05394173, -0.11514203]),\n",
       " array([-0.05060499, -0.10801955]),\n",
       " array([-0.00124429, -0.00265602]),\n",
       " array([-0.00291606, -0.00622452]),\n",
       " array([-0.01663602, -0.03551063]),\n",
       " array([-1.64950110e-05, -3.52096412e-05])]"
      ]
     },
     "execution_count": 59,
     "metadata": {},
     "output_type": "execute_result"
    }
   ],
   "source": [
    "angles_changes = get_change_in_angle(start,end,dist_tangent)\n",
    "angles_changes"
   ]
  },
  {
   "cell_type": "code",
   "execution_count": 60,
   "metadata": {},
   "outputs": [
    {
     "data": {
      "text/plain": [
       "array([4753.0294084 , 4647.4084242 , 3520.500276  , 3446.1809548 ,\n",
       "       3405.6577736 , 3403.2437636 , 3401.4413028 , 3399.236507  ,\n",
       "       3393.7808444 , 3393.1853886 , 3391.6887024 , 3389.52208819,\n",
       "       3389.52006525])"
      ]
     },
     "execution_count": 60,
     "metadata": {},
     "output_type": "execute_result"
    }
   ],
   "source": [
    "radii_km"
   ]
  },
  {
   "cell_type": "code",
   "execution_count": 65,
   "metadata": {},
   "outputs": [
    {
     "data": {
      "text/plain": [
       "[(4753.029890412851, 37.36443010087578, 142.3473721781035),\n",
       " [4647.4084242, 24.70786040806419, 115.33112596977541],\n",
       " [3520.500276, 22.927096172469607, 111.52997240324999],\n",
       " [3446.1809548, 20.07991505149018, 105.45248474024038],\n",
       " [3405.6577736, 19.485396903708562, 104.18344825992853],\n",
       " [3403.2437636, 19.435726722495478, 104.07742412563034],\n",
       " [3401.4413028, 19.381784990527994, 103.96228209685735],\n",
       " [3399.236507, 19.331179997444714, 103.8542625476674],\n",
       " [3393.7808444, 19.329935703032046, 103.85160652277091],\n",
       " [3393.1853886, 19.327019640506474, 103.84538200340572],\n",
       " [3391.6887024, 19.31038362283453, 103.80987137451812],\n",
       " [3389.5220881915, 19.310367127823536, 103.80983616487688]]"
      ]
     },
     "execution_count": 65,
     "metadata": {},
     "output_type": "execute_result"
    }
   ],
   "source": [
    "# Calculate radial distances\n",
    "radii_km = altitudes_km +3389.5 \n",
    "\n",
    "\n",
    "def get_shpere_postions(start,angles_changes,radii_km):\n",
    "    start_sph = cartesian_to_spherical(*start)\n",
    "    cords = [start_sph]\n",
    "    for i in range(1,len(dist_tangent)):\n",
    "        cords.append([radii_km[i],cords[i-1][1]+angles_changes[i][0],cords[i-1][2]+angles_changes[i][1]])\n",
    "\n",
    "    return cords\n",
    "\n",
    "sph_cords = get_shpere_postions(start,angles_changes,radii_km)\n",
    "sph_cords"
   ]
  },
  {
   "cell_type": "code",
   "execution_count": 89,
   "metadata": {},
   "outputs": [
    {
     "name": "stdout",
     "output_type": "stream",
     "text": [
      "The coordinates of the spacecraft at time -928 Seconds \n",
      " Spherical:  4753.03 37.36 142.35 \t Cartesian  2903.31 1762.08 -3763.11 \n",
      "\n",
      "\n",
      "The coordinates of the spacecraft at time -893 Seconds \n",
      " Spherical:  4647.41 24.71 115.33 \t Cartesian  4200.44 1755.8 -1988.39 \n",
      "\n",
      "\n",
      "The coordinates of the spacecraft at time -409 Seconds \n",
      " Spherical:  3520.5 22.93 111.53 \t Cartesian  3274.78 1275.75 -1291.98 \n",
      "\n",
      "\n",
      "The coordinates of the spacecraft at time -354 Seconds \n",
      " Spherical:  3446.18 20.08 105.45 \t Cartesian  3321.55 1140.41 -918.2 \n",
      "\n",
      "\n",
      "The coordinates of the spacecraft at time -269 Seconds \n",
      " Spherical:  3405.66 19.49 104.18 \t Cartesian  3301.78 1101.38 -834.48 \n",
      "\n",
      "\n",
      "The coordinates of the spacecraft at time -183 Seconds \n",
      " Spherical:  3403.24 19.44 104.08 \t Cartesian  3300.98 1098.42 -827.78 \n",
      "\n",
      "\n",
      "The coordinates of the spacecraft at time -166 Seconds \n",
      " Spherical:  3401.44 19.38 103.96 \t Cartesian  3300.89 1095.46 -820.71 \n",
      "\n",
      "\n",
      "The coordinates of the spacecraft at time -145 Seconds \n",
      " Spherical:  3399.24 19.33 103.85 \t Cartesian  3300.29 1092.51 -813.96 \n",
      "\n",
      "\n",
      "The coordinates of the spacecraft at time -85 Seconds \n",
      " Spherical:  3393.78 19.33 103.85 \t Cartesian  3295.03 1090.7 -812.5 \n",
      "\n",
      "\n",
      "The coordinates of the spacecraft at time -78 Seconds \n",
      " Spherical:  3393.19 19.33 103.85 \t Cartesian  3294.54 1090.38 -812.0 \n",
      "\n",
      "\n",
      "The coordinates of the spacecraft at time -60 Seconds \n",
      " Spherical:  3391.69 19.31 103.81 \t Cartesian  3293.59 1089.16 -809.6 \n",
      "\n",
      "\n",
      "The coordinates of the spacecraft at time -18 Seconds \n",
      " Spherical:  3389.52 19.31 103.81 \t Cartesian  3291.49 1088.46 -809.08 \n",
      "\n",
      "\n"
     ]
    }
   ],
   "source": [
    "cart_cords = []\n",
    "for ind,cord in enumerate(sph_cords):\n",
    "    cords_xyz = spherical_to_cartesian(*cord)\n",
    "    cart_cords.append(cords_xyz)\n",
    "\n",
    "    print(f\"The coordinates of the spacecraft at time -\"+str(times_seconds[ind]),'Seconds', \"\\n Spherical: \",*np.round(cord,2),\"\\t Cartesian \",*np.round(cords_xyz,2),'\\n\\n')"
   ]
  },
  {
   "cell_type": "code",
   "execution_count": 90,
   "metadata": {},
   "outputs": [
    {
     "data": {
      "text/plain": [
       "[(2903.307884518872, 1762.0809999999994, -3763.1110000000003),\n",
       " (4200.442309033176, 1755.7997860399478, -1988.3887854201546),\n",
       " (3274.780028404988, 1275.7529513092213, -1291.980981817112),\n",
       " (3321.545379546849, 1140.4090877864437, -918.1975165205231),\n",
       " (3301.7821322419863, 1101.38362599762, -834.4791970518446),\n",
       " (3300.9794550691554, 1098.4175657376793, -827.7806481286702),\n",
       " (3300.88741811006, 1095.4557283314768, -820.7102884021442),\n",
       " (3300.288489994309, 1092.5066888179365, -813.957627499491),\n",
       " (3295.029310432226, 1090.6981954421854, -812.4985049206214),\n",
       " (3294.5394303574053, 1090.3778057487914, -811.9980332376084),\n",
       " (3293.588748538154, 1089.1606573619351, -809.5987008195108),\n",
       " (3291.4852979686293, 1088.464170539794, -809.0795056101255)]"
      ]
     },
     "execution_count": 90,
     "metadata": {},
     "output_type": "execute_result"
    }
   ],
   "source": [
    "cart_cords"
   ]
  },
  {
   "cell_type": "code",
   "execution_count": 93,
   "metadata": {},
   "outputs": [
    {
     "data": {
      "text/plain": [
       "13"
      ]
     },
     "execution_count": 93,
     "metadata": {},
     "output_type": "execute_result"
    }
   ],
   "source": [
    "len(times_seconds) "
   ]
  },
  {
   "cell_type": "code",
   "execution_count": 97,
   "metadata": {},
   "outputs": [
    {
     "name": "stdout",
     "output_type": "stream",
     "text": [
      "Time: 928 seconds, Coordinates: x = 2903.307884518872 y = 1762.0809999999994 z = -3763.1110000000003\n",
      "Time: 923 seconds, Coordinates: x = 3088.61280230663 y = 1761.1836837199921 z = -3509.579255060022\n",
      "Time: 918 seconds, Coordinates: x = 3273.9177200943873 y = 1760.2863674399846 z = -3256.0475101200445\n",
      "Time: 913 seconds, Coordinates: x = 3459.222637882145 y = 1759.3890511599773 z = -3002.5157651800664\n",
      "Time: 908 seconds, Coordinates: x = 3644.5275556699025 y = 1758.49173487997 z = -2748.9840202400883\n",
      "Time: 903 seconds, Coordinates: x = 3829.8324734576604 y = 1757.5944185999626 z = -2495.45227530011\n",
      "Time: 898 seconds, Coordinates: x = 4015.1373912454183 y = 1756.697102319955 z = -2241.920530360133\n",
      "Time: 893 seconds, Coordinates: x = 4200.442309033176 y = 1755.7997860399478 z = -1988.3887854201546\n",
      "Time: 893 seconds, Coordinates: x = 4200.442309033176 y = 1755.7997860399478 z = -1988.3887854201546\n",
      "Time: 888 seconds, Coordinates: x = 4190.879682167182 y = 1750.8406245241345 z = -1981.1944899283876\n",
      "Time: 883 seconds, Coordinates: x = 4181.317055301189 y = 1745.8814630083211 z = -1974.0001944366206\n",
      "Time: 878 seconds, Coordinates: x = 4171.754428435194 y = 1740.9223014925078 z = -1966.8058989448537\n",
      "Time: 873 seconds, Coordinates: x = 4162.191801569201 y = 1735.9631399766947 z = -1959.6116034530867\n",
      "Time: 868 seconds, Coordinates: x = 4152.629174703207 y = 1731.0039784608814 z = -1952.4173079613197\n",
      "Time: 863 seconds, Coordinates: x = 4143.066547837214 y = 1726.044816945068 z = -1945.2230124695527\n",
      "Time: 858 seconds, Coordinates: x = 4133.50392097122 y = 1721.0856554292548 z = -1938.0287169777857\n",
      "Time: 853 seconds, Coordinates: x = 4123.941294105226 y = 1716.1264939134414 z = -1930.8344214860188\n",
      "Time: 848 seconds, Coordinates: x = 4114.3786672392325 y = 1711.1673323976281 z = -1923.6401259942518\n",
      "Time: 843 seconds, Coordinates: x = 4104.816040373239 y = 1706.2081708818148 z = -1916.4458305024848\n",
      "Time: 838 seconds, Coordinates: x = 4095.253413507245 y = 1701.2490093660017 z = -1909.251535010718\n",
      "Time: 833 seconds, Coordinates: x = 4085.6907866412516 y = 1696.2898478501884 z = -1902.057239518951\n",
      "Time: 828 seconds, Coordinates: x = 4076.1281597752577 y = 1691.330686334375 z = -1894.862944027184\n",
      "Time: 823 seconds, Coordinates: x = 4066.565532909264 y = 1686.3715248185617 z = -1887.668648535417\n",
      "Time: 818 seconds, Coordinates: x = 4057.0029060432707 y = 1681.4123633027484 z = -1880.4743530436501\n",
      "Time: 813 seconds, Coordinates: x = 4047.440279177277 y = 1676.453201786935 z = -1873.2800575518831\n",
      "Time: 808 seconds, Coordinates: x = 4037.8776523112833 y = 1671.4940402711218 z = -1866.0857620601162\n",
      "Time: 803 seconds, Coordinates: x = 4028.3150254452894 y = 1666.5348787553085 z = -1858.8914665683492\n",
      "Time: 798 seconds, Coordinates: x = 4018.752398579296 y = 1661.5757172394954 z = -1851.6971710765822\n",
      "Time: 793 seconds, Coordinates: x = 4009.1897717133024 y = 1656.616555723682 z = -1844.5028755848152\n",
      "Time: 788 seconds, Coordinates: x = 3999.6271448473085 y = 1651.6573942078687 z = -1837.3085800930482\n",
      "Time: 783 seconds, Coordinates: x = 3990.064517981315 y = 1646.6982326920554 z = -1830.1142846012813\n",
      "Time: 778 seconds, Coordinates: x = 3980.501891115321 y = 1641.739071176242 z = -1822.9199891095143\n",
      "Time: 773 seconds, Coordinates: x = 3970.9392642493276 y = 1636.7799096604288 z = -1815.7256936177473\n",
      "Time: 768 seconds, Coordinates: x = 3961.3766373833337 y = 1631.8207481446154 z = -1808.5313981259803\n",
      "Time: 763 seconds, Coordinates: x = 3951.81401051734 y = 1626.8615866288023 z = -1801.3371026342134\n",
      "Time: 758 seconds, Coordinates: x = 3942.2513836513463 y = 1621.902425112989 z = -1794.1428071424464\n",
      "Time: 753 seconds, Coordinates: x = 3932.688756785353 y = 1616.9432635971757 z = -1786.9485116506794\n",
      "Time: 748 seconds, Coordinates: x = 3923.1261299193593 y = 1611.9841020813624 z = -1779.7542161589124\n",
      "Time: 743 seconds, Coordinates: x = 3913.5635030533654 y = 1607.024940565549 z = -1772.5599206671454\n",
      "Time: 738 seconds, Coordinates: x = 3904.000876187372 y = 1602.0657790497357 z = -1765.3656251753787\n",
      "Time: 733 seconds, Coordinates: x = 3894.438249321378 y = 1597.1066175339224 z = -1758.1713296836115\n",
      "Time: 728 seconds, Coordinates: x = 3884.8756224553845 y = 1592.147456018109 z = -1750.9770341918447\n",
      "Time: 723 seconds, Coordinates: x = 3875.312995589391 y = 1587.188294502296 z = -1743.7827387000777\n",
      "Time: 718 seconds, Coordinates: x = 3865.750368723397 y = 1582.2291329864827 z = -1736.5884432083108\n",
      "Time: 713 seconds, Coordinates: x = 3856.1877418574036 y = 1577.2699714706694 z = -1729.3941477165438\n",
      "Time: 708 seconds, Coordinates: x = 3846.6251149914096 y = 1572.310809954856 z = -1722.1998522247768\n",
      "Time: 703 seconds, Coordinates: x = 3837.062488125416 y = 1567.3516484390427 z = -1715.0055567330098\n",
      "Time: 698 seconds, Coordinates: x = 3827.4998612594222 y = 1562.3924869232294 z = -1707.8112612412428\n",
      "Time: 693 seconds, Coordinates: x = 3817.9372343934288 y = 1557.433325407416 z = -1700.6169657494759\n",
      "Time: 688 seconds, Coordinates: x = 3808.3746075274353 y = 1552.474163891603 z = -1693.422670257709\n",
      "Time: 683 seconds, Coordinates: x = 3798.8119806614413 y = 1547.5150023757897 z = -1686.228374765942\n",
      "Time: 678 seconds, Coordinates: x = 3789.249353795448 y = 1542.5558408599763 z = -1679.034079274175\n",
      "Time: 673 seconds, Coordinates: x = 3779.686726929454 y = 1537.596679344163 z = -1671.839783782408\n",
      "Time: 668 seconds, Coordinates: x = 3770.1241000634604 y = 1532.6375178283497 z = -1664.645488290641\n",
      "Time: 663 seconds, Coordinates: x = 3760.5614731974665 y = 1527.6783563125364 z = -1657.451192798874\n",
      "Time: 658 seconds, Coordinates: x = 3750.998846331473 y = 1522.719194796723 z = -1650.256897307107\n",
      "Time: 653 seconds, Coordinates: x = 3741.4362194654796 y = 1517.7600332809097 z = -1643.06260181534\n",
      "Time: 648 seconds, Coordinates: x = 3731.8735925994856 y = 1512.8008717650966 z = -1635.868306323573\n",
      "Time: 643 seconds, Coordinates: x = 3722.310965733492 y = 1507.8417102492833 z = -1628.6740108318063\n",
      "Time: 638 seconds, Coordinates: x = 3712.748338867498 y = 1502.88254873347 z = -1621.479715340039\n",
      "Time: 633 seconds, Coordinates: x = 3703.1857120015047 y = 1497.9233872176567 z = -1614.2854198482723\n",
      "Time: 628 seconds, Coordinates: x = 3693.623085135511 y = 1492.9642257018434 z = -1607.0911243565051\n",
      "Time: 623 seconds, Coordinates: x = 3684.0604582695173 y = 1488.00506418603 z = -1599.8968288647384\n",
      "Time: 618 seconds, Coordinates: x = 3674.4978314035234 y = 1483.045902670217 z = -1592.7025333729712\n",
      "Time: 613 seconds, Coordinates: x = 3664.93520453753 y = 1478.0867411544036 z = -1585.5082378812044\n",
      "Time: 608 seconds, Coordinates: x = 3655.3725776715364 y = 1473.1275796385903 z = -1578.3139423894374\n",
      "Time: 603 seconds, Coordinates: x = 3645.8099508055425 y = 1468.168418122777 z = -1571.1196468976705\n",
      "Time: 598 seconds, Coordinates: x = 3636.247323939549 y = 1463.2092566069637 z = -1563.9253514059035\n",
      "Time: 593 seconds, Coordinates: x = 3626.684697073555 y = 1458.2500950911503 z = -1556.7310559141365\n",
      "Time: 588 seconds, Coordinates: x = 3617.1220702075616 y = 1453.290933575337 z = -1549.5367604223695\n",
      "Time: 583 seconds, Coordinates: x = 3607.559443341568 y = 1448.3317720595237 z = -1542.3424649306025\n",
      "Time: 578 seconds, Coordinates: x = 3597.996816475574 y = 1443.3726105437104 z = -1535.1481694388356\n",
      "Time: 573 seconds, Coordinates: x = 3588.4341896095807 y = 1438.4134490278973 z = -1527.9538739470686\n",
      "Time: 568 seconds, Coordinates: x = 3578.8715627435868 y = 1433.454287512084 z = -1520.7595784553016\n",
      "Time: 563 seconds, Coordinates: x = 3569.3089358775933 y = 1428.4951259962706 z = -1513.5652829635346\n",
      "Time: 558 seconds, Coordinates: x = 3559.7463090116 y = 1423.5359644804573 z = -1506.3709874717676\n",
      "Time: 553 seconds, Coordinates: x = 3550.183682145606 y = 1418.576802964644 z = -1499.1766919800007\n",
      "Time: 548 seconds, Coordinates: x = 3540.621055279612 y = 1413.617641448831 z = -1491.9823964882337\n",
      "Time: 543 seconds, Coordinates: x = 3531.0584284136185 y = 1408.6584799330176 z = -1484.7881009964667\n",
      "Time: 538 seconds, Coordinates: x = 3521.495801547625 y = 1403.6993184172043 z = -1477.5938055046997\n",
      "Time: 533 seconds, Coordinates: x = 3511.9331746816315 y = 1398.740156901391 z = -1470.3995100129328\n",
      "Time: 528 seconds, Coordinates: x = 3502.3705478156376 y = 1393.7809953855776 z = -1463.205214521166\n",
      "Time: 523 seconds, Coordinates: x = 3492.8079209496436 y = 1388.8218338697643 z = -1456.0109190293988\n",
      "Time: 518 seconds, Coordinates: x = 3483.24529408365 y = 1383.862672353951 z = -1448.816623537632\n",
      "Time: 513 seconds, Coordinates: x = 3473.6826672176567 y = 1378.9035108381377 z = -1441.6223280458648\n",
      "Time: 508 seconds, Coordinates: x = 3464.1200403516627 y = 1373.9443493223243 z = -1434.428032554098\n",
      "Time: 503 seconds, Coordinates: x = 3454.5574134856693 y = 1368.9851878065112 z = -1427.233737062331\n",
      "Time: 498 seconds, Coordinates: x = 3444.9947866196753 y = 1364.026026290698 z = -1420.0394415705641\n",
      "Time: 493 seconds, Coordinates: x = 3435.432159753682 y = 1359.0668647748846 z = -1412.845146078797\n",
      "Time: 488 seconds, Coordinates: x = 3425.8695328876884 y = 1354.1077032590713 z = -1405.6508505870302\n",
      "Time: 483 seconds, Coordinates: x = 3416.3069060216944 y = 1349.148541743258 z = -1398.4565550952632\n",
      "Time: 478 seconds, Coordinates: x = 3406.744279155701 y = 1344.1893802274446 z = -1391.2622596034962\n",
      "Time: 473 seconds, Coordinates: x = 3397.181652289707 y = 1339.2302187116316 z = -1384.0679641117292\n",
      "Time: 468 seconds, Coordinates: x = 3387.6190254237135 y = 1334.2710571958182 z = -1376.8736686199622\n",
      "Time: 463 seconds, Coordinates: x = 3378.0563985577196 y = 1329.311895680005 z = -1369.6793731281953\n",
      "Time: 458 seconds, Coordinates: x = 3368.493771691726 y = 1324.3527341641916 z = -1362.4850776364283\n",
      "Time: 453 seconds, Coordinates: x = 3358.931144825732 y = 1319.3935726483783 z = -1355.2907821446615\n",
      "Time: 448 seconds, Coordinates: x = 3349.3685179597387 y = 1314.434411132565 z = -1348.0964866528943\n",
      "Time: 443 seconds, Coordinates: x = 3339.8058910937452 y = 1309.4752496167516 z = -1340.9021911611273\n",
      "Time: 438 seconds, Coordinates: x = 3330.2432642277513 y = 1304.5160881009383 z = -1333.7078956693604\n",
      "Time: 433 seconds, Coordinates: x = 3320.680637361758 y = 1299.556926585125 z = -1326.5136001775934\n",
      "Time: 428 seconds, Coordinates: x = 3311.118010495764 y = 1294.597765069312 z = -1319.3193046858264\n",
      "Time: 423 seconds, Coordinates: x = 3301.5553836297704 y = 1289.6386035534986 z = -1312.1250091940597\n",
      "Time: 418 seconds, Coordinates: x = 3291.992756763777 y = 1284.6794420376852 z = -1304.9307137022925\n",
      "Time: 413 seconds, Coordinates: x = 3282.430129897783 y = 1279.720280521872 z = -1297.7364182105257\n",
      "Time: 409 seconds, Coordinates: x = 3274.780028404988 y = 1275.7529513092213 z = -1291.980981817112\n",
      "Time: 404 seconds, Coordinates: x = 3279.031423963339 y = 1263.4489637162415 z = -1258.0006667901494\n",
      "Time: 399 seconds, Coordinates: x = 3283.2828195216903 y = 1251.1449761232618 z = -1224.0203517631867\n",
      "Time: 394 seconds, Coordinates: x = 3287.534215080041 y = 1238.840988530282 z = -1190.0400367362242\n",
      "Time: 389 seconds, Coordinates: x = 3291.785610638392 y = 1226.537000937302 z = -1156.0597217092616\n",
      "Time: 384 seconds, Coordinates: x = 3296.037006196743 y = 1214.2330133443224 z = -1122.079406682299\n",
      "Time: 379 seconds, Coordinates: x = 3300.288401755094 y = 1201.9290257513426 z = -1088.0990916553362\n",
      "Time: 374 seconds, Coordinates: x = 3304.539797313445 y = 1189.625038158363 z = -1054.1187766283736\n",
      "Time: 369 seconds, Coordinates: x = 3308.791192871796 y = 1177.321050565383 z = -1020.138461601411\n",
      "Time: 364 seconds, Coordinates: x = 3313.0425884301467 y = 1165.0170629724032 z = -986.1581465744483\n",
      "Time: 359 seconds, Coordinates: x = 3317.293983988498 y = 1152.7130753794236 z = -952.1778315474858\n",
      "Time: 354 seconds, Coordinates: x = 3321.545379546849 y = 1140.4090877864437 z = -918.1975165205231\n",
      "Time: 354 seconds, Coordinates: x = 3321.545379546849 y = 1140.4090877864437 z = -918.1975165205231\n",
      "Time: 349 seconds, Coordinates: x = 3320.3828355877395 y = 1138.1134723871012 z = -913.2729094929538\n",
      "Time: 344 seconds, Coordinates: x = 3319.2202916286296 y = 1135.8178569877587 z = -908.3483024653844\n",
      "Time: 339 seconds, Coordinates: x = 3318.0577476695203 y = 1133.522241588416 z = -903.4236954378151\n",
      "Time: 334 seconds, Coordinates: x = 3316.8952037104104 y = 1131.2266261890734 z = -898.4990884102458\n",
      "Time: 329 seconds, Coordinates: x = 3315.732659751301 y = 1128.9310107897309 z = -893.5744813826765\n",
      "Time: 324 seconds, Coordinates: x = 3314.5701157921917 y = 1126.6353953903883 z = -888.6498743551072\n",
      "Time: 319 seconds, Coordinates: x = 3313.407571833082 y = 1124.3397799910456 z = -883.7252673275378\n",
      "Time: 314 seconds, Coordinates: x = 3312.2450278739725 y = 1122.044164591703 z = -878.8006602999685\n",
      "Time: 309 seconds, Coordinates: x = 3311.0824839148627 y = 1119.7485491923605 z = -873.8760532723992\n",
      "Time: 304 seconds, Coordinates: x = 3309.9199399557533 y = 1117.452933793018 z = -868.9514462448299\n",
      "Time: 299 seconds, Coordinates: x = 3308.7573959966435 y = 1115.1573183936753 z = -864.0268392172605\n",
      "Time: 294 seconds, Coordinates: x = 3307.594852037534 y = 1112.8617029943327 z = -859.1022321896912\n",
      "Time: 289 seconds, Coordinates: x = 3306.4323080784247 y = 1110.5660875949902 z = -854.1776251621219\n",
      "Time: 284 seconds, Coordinates: x = 3305.269764119315 y = 1108.2704721956477 z = -849.2530181345526\n",
      "Time: 279 seconds, Coordinates: x = 3304.1072201602055 y = 1105.974856796305 z = -844.3284111069833\n",
      "Time: 274 seconds, Coordinates: x = 3302.9446762010957 y = 1103.6792413969624 z = -839.4038040794139\n",
      "Time: 269 seconds, Coordinates: x = 3301.7821322419863 y = 1101.38362599762 z = -834.4791970518446\n",
      "Time: 269 seconds, Coordinates: x = 3301.7821322419863 y = 1101.38362599762 z = -834.4791970518446\n",
      "Time: 264 seconds, Coordinates: x = 3301.7354649644963 y = 1101.2111806336698 z = -834.0897465330554\n",
      "Time: 259 seconds, Coordinates: x = 3301.688797687006 y = 1101.0387352697198 z = -833.7002960142662\n",
      "Time: 254 seconds, Coordinates: x = 3301.6421304095156 y = 1100.8662899057697 z = -833.310845495477\n",
      "Time: 249 seconds, Coordinates: x = 3301.5954631320255 y = 1100.6938445418198 z = -832.9213949766878\n",
      "Time: 244 seconds, Coordinates: x = 3301.5487958545355 y = 1100.5213991778696 z = -832.5319444578986\n",
      "Time: 239 seconds, Coordinates: x = 3301.5021285770454 y = 1100.3489538139197 z = -832.1424939391094\n",
      "Time: 234 seconds, Coordinates: x = 3301.4554612995553 y = 1100.1765084499696 z = -831.7530434203202\n",
      "Time: 229 seconds, Coordinates: x = 3301.408794022065 y = 1100.0040630860196 z = -831.363592901531\n",
      "Time: 224 seconds, Coordinates: x = 3301.3621267445747 y = 1099.8316177220695 z = -830.9741423827418\n",
      "Time: 219 seconds, Coordinates: x = 3301.3154594670846 y = 1099.6591723581196 z = -830.5846918639526\n",
      "Time: 214 seconds, Coordinates: x = 3301.2687921895945 y = 1099.4867269941694 z = -830.1952413451634\n",
      "Time: 209 seconds, Coordinates: x = 3301.2221249121044 y = 1099.3142816302195 z = -829.8057908263742\n",
      "Time: 204 seconds, Coordinates: x = 3301.1754576346143 y = 1099.1418362662694 z = -829.416340307585\n",
      "Time: 199 seconds, Coordinates: x = 3301.1287903571238 y = 1098.9693909023194 z = -829.0268897887958\n",
      "Time: 194 seconds, Coordinates: x = 3301.0821230796337 y = 1098.7969455383693 z = -828.6374392700064\n",
      "Time: 189 seconds, Coordinates: x = 3301.0354558021436 y = 1098.6245001744194 z = -828.2479887512172\n",
      "Time: 184 seconds, Coordinates: x = 3300.9887885246535 y = 1098.4520548104692 z = -827.858538232428\n",
      "Time: 183 seconds, Coordinates: x = 3300.9794550691554 y = 1098.4175657376793 z = -827.7806481286702\n",
      "Time: 178 seconds, Coordinates: x = 3300.952385375304 y = 1097.5464370887962 z = -825.7011305620449\n",
      "Time: 173 seconds, Coordinates: x = 3300.925315681452 y = 1096.6753084399131 z = -823.6216129954196\n",
      "Time: 168 seconds, Coordinates: x = 3300.8982459876006 y = 1095.80417979103 z = -821.5420954287944\n",
      "Time: 166 seconds, Coordinates: x = 3300.88741811006 y = 1095.4557283314768 z = -820.7102884021442\n",
      "Time: 161 seconds, Coordinates: x = 3300.7448161777384 y = 1094.7535760663482 z = -819.1025119967505\n",
      "Time: 156 seconds, Coordinates: x = 3300.6022142454167 y = 1094.0514238012195 z = -817.494735591357\n",
      "Time: 151 seconds, Coordinates: x = 3300.459612313095 y = 1093.3492715360908 z = -815.8869591859633\n",
      "Time: 146 seconds, Coordinates: x = 3300.3170103807734 y = 1092.6471192709623 z = -814.2791827805697\n",
      "Time: 145 seconds, Coordinates: x = 3300.288489994309 y = 1092.5066888179365 z = -813.957627499491\n",
      "Time: 140 seconds, Coordinates: x = 3299.8502250308024 y = 1092.355981036624 z = -813.8360339512518\n",
      "Time: 135 seconds, Coordinates: x = 3299.4119600672952 y = 1092.2052732553113 z = -813.7144404030128\n",
      "Time: 130 seconds, Coordinates: x = 3298.9736951037885 y = 1092.0545654739988 z = -813.5928468547736\n",
      "Time: 125 seconds, Coordinates: x = 3298.5354301402813 y = 1091.9038576926862 z = -813.4712533065344\n",
      "Time: 120 seconds, Coordinates: x = 3298.0971651767745 y = 1091.7531499113736 z = -813.3496597582953\n",
      "Time: 115 seconds, Coordinates: x = 3297.6589002132678 y = 1091.6024421300608 z = -813.2280662100561\n",
      "Time: 110 seconds, Coordinates: x = 3297.2206352497606 y = 1091.4517343487482 z = -813.1064726618171\n",
      "Time: 105 seconds, Coordinates: x = 3296.782370286254 y = 1091.3010265674357 z = -812.9848791135779\n",
      "Time: 100 seconds, Coordinates: x = 3296.3441053227466 y = 1091.150318786123 z = -812.8632855653387\n",
      "Time: 95 seconds, Coordinates: x = 3295.90584035924 y = 1090.9996110048105 z = -812.7416920170997\n",
      "Time: 90 seconds, Coordinates: x = 3295.4675753957326 y = 1090.848903223498 z = -812.6200984688605\n",
      "Time: 85 seconds, Coordinates: x = 3295.029310432226 y = 1090.6981954421854 z = -812.4985049206214\n",
      "Time: 85 seconds, Coordinates: x = 3295.029310432226 y = 1090.6981954421854 z = -812.4985049206214\n",
      "Time: 80 seconds, Coordinates: x = 3294.679396093068 y = 1090.4693456611897 z = -812.1410251470406\n",
      "Time: 78 seconds, Coordinates: x = 3294.5394303574053 y = 1090.3778057487914 z = -811.9980332376084\n",
      "Time: 73 seconds, Coordinates: x = 3294.27535207428 y = 1090.0397089746646 z = -811.331552010359\n",
      "Time: 68 seconds, Coordinates: x = 3294.0112737911545 y = 1089.701612200538 z = -810.6650707831097\n",
      "Time: 63 seconds, Coordinates: x = 3293.747195508029 y = 1089.3635154264111 z = -809.9985895558603\n",
      "Time: 60 seconds, Coordinates: x = 3293.588748538154 y = 1089.1606573619351 z = -809.5987008195108\n",
      "Time: 55 seconds, Coordinates: x = 3293.3383377560676 y = 1089.0777422640613 z = -809.5368918660125\n",
      "Time: 50 seconds, Coordinates: x = 3293.0879269739817 y = 1088.9948271661872 z = -809.4750829125143\n",
      "Time: 45 seconds, Coordinates: x = 3292.8375161918952 y = 1088.9119120683133 z = -809.413273959016\n",
      "Time: 40 seconds, Coordinates: x = 3292.587105409809 y = 1088.8289969704392 z = -809.3514650055178\n",
      "Time: 35 seconds, Coordinates: x = 3292.336694627723 y = 1088.7460818725654 z = -809.2896560520195\n",
      "Time: 30 seconds, Coordinates: x = 3292.0862838456364 y = 1088.6631667746915 z = -809.2278470985212\n",
      "Time: 25 seconds, Coordinates: x = 3291.83587306355 y = 1088.5802516768174 z = -809.166038145023\n",
      "Time: 20 seconds, Coordinates: x = 3291.5854622814636 y = 1088.4973365789435 z = -809.1042291915247\n"
     ]
    }
   ],
   "source": [
    "def interpolate_trajectory(coords, times, step):\n",
    "    interpolated_coords = []\n",
    "    interpolated_times = []\n",
    "    \n",
    "    for i in range(len(coords) - 1):\n",
    "        start_coords = np.array(coords[i])\n",
    "        end_coords = np.array(coords[i + 1])\n",
    "        start_time = times[i]\n",
    "        end_time = times[i + 1]\n",
    "        \n",
    "        num_steps = int((start_time - end_time) / step)\n",
    "        \n",
    "        for j in range(num_steps + 1):\n",
    "            t = j * step\n",
    "            fraction = t / (start_time - end_time)\n",
    "            interpolated_coord = start_coords + fraction * (end_coords - start_coords)\n",
    "            interpolated_time = start_time - t\n",
    "            \n",
    "            interpolated_coords.append(interpolated_coord)\n",
    "            interpolated_times.append(interpolated_time)\n",
    "    \n",
    "    return interpolated_coords, interpolated_times\n",
    "\n",
    "# Example usage:\n",
    "step_size = 5  # in seconds\n",
    "interpolated_coords, interpolated_times = interpolate_trajectory(cart_cords, times_seconds, step_size)\n",
    "\n",
    "# Print the results\n",
    "for coord, time in zip(interpolated_coords, interpolated_times):\n",
    "    print(f\"Time: {time:.0f} seconds, Coordinates:\", *[f\"{o} = {p}\" for o,p in  zip(['x','y','z'],coord)])"
   ]
  }
 ],
 "metadata": {
  "kernelspec": {
   "display_name": "Python 3",
   "language": "python",
   "name": "python3"
  },
  "language_info": {
   "codemirror_mode": {
    "name": "ipython",
    "version": 3
   },
   "file_extension": ".py",
   "mimetype": "text/x-python",
   "name": "python",
   "nbconvert_exporter": "python",
   "pygments_lexer": "ipython3",
   "version": "3.11.9"
  }
 },
 "nbformat": 4,
 "nbformat_minor": 2
}
