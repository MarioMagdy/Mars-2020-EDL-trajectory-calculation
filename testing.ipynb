{
 "cells": [
  {
   "cell_type": "code",
   "execution_count": 2,
   "metadata": {},
   "outputs": [],
   "source": [
    "from matplotlib import pyplot as plt\n",
    "\n",
    "plt.style.use('ggplot')\n",
    "plt.rcParams['font.family'] = 'sans-serif'\n",
    "plt.rcParams['font.serif'] = 'Ubuntu'\n",
    "plt.rcParams['font.monospace'] = 'Ubuntu Mono'\n",
    "plt.rcParams['font.size'] = 14\n",
    "plt.rcParams['axes.labelsize'] = 12\n",
    "plt.rcParams['axes.labelweight'] = 'bold'\n",
    "plt.rcParams['axes.titlesize'] = 12\n",
    "plt.rcParams['xtick.labelsize'] = 12\n",
    "plt.rcParams['ytick.labelsize'] = 12\n",
    "plt.rcParams['legend.fontsize'] = 12\n",
    "plt.rcParams['figure.titlesize'] = 12\n",
    "plt.rcParams['image.cmap'] = 'jet'\n",
    "plt.rcParams['image.interpolation'] = 'none'\n",
    "plt.rcParams['figure.figsize'] = (12, 10)\n",
    "plt.rcParams['axes.grid']=True\n",
    "plt.rcParams['lines.linewidth'] = 2\n",
    "plt.rcParams['lines.markersize'] = 8\n",
    "colors = ['xkcd:pale orange', 'xkcd:sea blue', 'xkcd:pale red', 'xkcd:sage green', 'xkcd:terra cotta', 'xkcd:dull purple', 'xkcd:teal', 'xkcd: goldenrod', 'xkcd:cadet blue',\n",
    "'xkcd:scarlet']\n",
    "\n",
    "\n",
    "\n",
    "\n",
    "\n",
    "\n",
    "\n",
    "\n",
    "# sc =plt.scatter(x = df_numerical['alt error'],y = df_numerical['az error'],s = df_numerical['lag_time'],c=df['colors'])\n",
    "# # plt.legend([\"Venus\", \"Arcturus\", \"Vega\"])\n",
    "# # plt.legend([ \"Arcturus\", \"Vega\"])\n",
    "# cmap = {'venus':'goldenrod','Arcturus':'saddlebrown','Vega':'deepskyblue'}\n",
    "\n",
    "# lp = lambda i,camp: plt.plot([],color=camp, mec=\"none\",\n",
    "#                         label=f\"{i}\", ls=\"\", marker=\"o\")[0]\n",
    "# handles = [lp(name,cmap[name]) for name in np.unique(df['Name'])]\n",
    "# plt.legend(handles=handles)"
   ]
  },
  {
   "cell_type": "code",
   "execution_count": 3,
   "metadata": {},
   "outputs": [],
   "source": [
    "import numpy as np"
   ]
  },
  {
   "cell_type": "code",
   "execution_count": 4,
   "metadata": {},
   "outputs": [],
   "source": [
    "start = np.array([2307.674,1762.081,-3763.111])\n",
    "end = np.array([3211, 1075,-726])\n",
    "t_s = 15*60+28\n"
   ]
  },
  {
   "cell_type": "code",
   "execution_count": 5,
   "metadata": {},
   "outputs": [],
   "source": [
    "mag=end-start"
   ]
  },
  {
   "cell_type": "code",
   "execution_count": 6,
   "metadata": {},
   "outputs": [
    {
     "data": {
      "text/plain": [
       "3242.240180671074"
      ]
     },
     "execution_count": 6,
     "metadata": {},
     "output_type": "execute_result"
    }
   ],
   "source": [
    "np.linalg.norm(mag)"
   ]
  },
  {
   "cell_type": "code",
   "execution_count": 7,
   "metadata": {},
   "outputs": [],
   "source": [
    "import math\n",
    "\n",
    "def cartesian_to_spherical(x, y, z):\n",
    "    r = math.sqrt(x**2 + y**2 + z**2)\n",
    "    theta = math.atan2(y, x)\n",
    "    phi = math.acos(z / r)\n",
    "    return r, math.degrees(theta), math.degrees(phi)\n",
    "\n",
    "def spherical_to_cartesian(r, theta, phi):\n",
    "    theta = math.radians(theta)\n",
    "    phi= math.radians(phi)\n",
    "\n",
    "    x = r * math.sin(phi) * math.cos(math.radians(theta))\n",
    "    y = r * math.sin(phi) * math.sin(theta)\n",
    "    z = r * math.cos(phi)\n",
    "    return x, y, z"
   ]
  },
  {
   "cell_type": "code",
   "execution_count": 8,
   "metadata": {},
   "outputs": [
    {
     "name": "stdout",
     "output_type": "stream",
     "text": [
      "Start:  (4753.029890412851, 37.36443010087578, 142.3473721781035)\n",
      "End:  (3463.123156920643, 18.509859212922787, 102.10110153570189)\n"
     ]
    }
   ],
   "source": [
    "print(\"Start: \",cartesian_to_spherical(*start))\n",
    "print(\"End: \",cartesian_to_spherical(*end))\n"
   ]
  },
  {
   "cell_type": "code",
   "execution_count": 9,
   "metadata": {},
   "outputs": [],
   "source": [
    "def get_angle_crossed(vect1,vect2):\n",
    "    oo = np.array(cartesian_to_spherical(*vect1)[1:])\n",
    "    pp = np.array(cartesian_to_spherical(*vect2)[1:])\n",
    "    return pp-oo\n"
   ]
  },
  {
   "cell_type": "code",
   "execution_count": 10,
   "metadata": {},
   "outputs": [
    {
     "data": {
      "text/plain": [
       "array([-18.85457089, -40.24627064])"
      ]
     },
     "execution_count": 10,
     "metadata": {},
     "output_type": "execute_result"
    }
   ],
   "source": [
    "get_angle_crossed(start,end)"
   ]
  },
  {
   "cell_type": "code",
   "execution_count": 11,
   "metadata": {},
   "outputs": [],
   "source": [
    "# Given data\n",
    "distances_miles = [2014.72, 1909.70, 395.24, 212.93, 48.70, 13.20, 9.21, 6.53, 2.69, 2.32, 1.4, 0.079411, 0.079237]\n",
    "altitudes_miles = [847.26, 781.63, 81.40, 35.22, 10.04, 8.54, 7.42, 6.05, 2.66, 2.29, 1.36, 0.013725, 0.012468]\n",
    "velocities_mph = [10585.42, 10678.59, 11931.65, 11988.77, 2465.25, 1068.26, 945.35, 363.01, 200.56, 194.76, 182.36, 3.71, 1.68]\n",
    "times_str = [\"15:28\", \"14:53\", \"06:49\", \"05:54\", \"04:29\", \"03:03\", \"02:46\", \"02:25\", \"01:25\", \"01:18\", \"01:00\", \"00:18\", \"00:16\"]\n",
    "\n",
    "mile_to_km = lambda lis: np.array(lis)*1.60934\n",
    "\n",
    "distances_km = mile_to_km(distances_miles) # Distance to the landing spot\n",
    "altitudes_km =mile_to_km(altitudes_miles)  # Altitude above Martian surface\n",
    "velocities_kph = mile_to_km(velocities_mph)  # Velocities in mph\n",
    "times_str = [\"15:28\", \"14:53\", \"06:49\", \"05:54\", \"04:29\", \"03:03\", \"02:46\", \"02:25\", \"01:25\", \"01:18\", \"01:00\", \"00:18\", \"00:16\"]  # Time to touch down \"min:sec\""
   ]
  },
  {
   "cell_type": "code",
   "execution_count": 12,
   "metadata": {},
   "outputs": [
    {
     "data": {
      "text/plain": [
       "array([1.36352941e+03, 1.25790842e+03, 1.31000276e+02, 5.66809548e+01,\n",
       "       1.61577736e+01, 1.37437636e+01, 1.19413028e+01, 9.73650700e+00,\n",
       "       4.28084440e+00, 3.68538860e+00, 2.18870240e+00, 2.20881915e-02,\n",
       "       2.00652511e-02])"
      ]
     },
     "execution_count": 12,
     "metadata": {},
     "output_type": "execute_result"
    }
   ],
   "source": [
    "altitudes_km"
   ]
  },
  {
   "cell_type": "code",
   "execution_count": 13,
   "metadata": {},
   "outputs": [
    {
     "name": "stdout",
     "output_type": "stream",
     "text": [
      "Time: 15:28, Radial Velocity: 10863.87 kph, Tangential Velocity: 13121.96 kph\n",
      "Time: 14:53, Radial Velocity: 8381.96 kph, Tangential Velocity: 15002.78 kph\n",
      "Time: 06:49, Radial Velocity: 4864.54 kph, Tangential Velocity: 18575.69 kph\n",
      "Time: 05:54, Radial Velocity: 1716.28 kph, Tangential Velocity: 19217.52 kph\n",
      "Time: 04:29, Radial Velocity: 101.05 kph, Tangential Velocity: 3966.14 kph\n",
      "Time: 03:03, Radial Velocity: 381.70 kph, Tangential Velocity: 1676.29 kph\n",
      "Time: 02:46, Radial Velocity: 377.96 kph, Tangential Velocity: 1473.69 kph\n",
      "Time: 02:25, Radial Velocity: 327.34 kph, Tangential Velocity: 483.89 kph\n",
      "Time: 01:25, Radial Velocity: 306.23 kph, Tangential Velocity: 101.98 kph\n",
      "Time: 01:18, Radial Velocity: 299.34 kph, Tangential Velocity: 92.94 kph\n",
      "Time: 01:00, Radial Velocity: 185.71 kph, Tangential Velocity: 227.25 kph\n",
      "Time: 00:18, Radial Velocity: 3.64 kph, Tangential Velocity: 4.73 kph\n",
      "Time: 00:16, Radial Velocity: 0.00 kph, Tangential Velocity: 0.00 kph\n"
     ]
    }
   ],
   "source": [
    "import math\n",
    "\n",
    "# # Given data\n",
    "# distances_miles = [2014.72, 1909.70, 395.24, 212.93, 48.70, 13.20, 9.21, 6.53, 2.69, 2.32, 1.4, 0.079411, 0.079237]\n",
    "# altitudes_miles = [847.26, 781.63, 81.40, 35.22, 10.04, 8.54, 7.42, 6.05, 2.66, 2.29, 1.36, 0.013725, 0.012468]\n",
    "# velocities_kph = [10585.42, 10678.59, 11931.65, 11988.77, 2465.25, 1068.26, 945.35, 363.01, 200.56, 194.76, 182.36, 3.71, 1.68]\n",
    "# times_str = [\"15:28\", \"14:53\", \"06:49\", \"05:54\", \"04:29\", \"03:03\", \"02:46\", \"02:25\", \"01:25\", \"01:18\", \"01:00\", \"00:18\", \"00:16\"]\n",
    "\n",
    "# Convert time strings to seconds\n",
    "def time_to_seconds(time_str):\n",
    "    minutes, seconds = map(int, time_str.split(\":\"))\n",
    "    return minutes * 60 + seconds\n",
    "\n",
    "times_seconds = [time_to_seconds(time) for time in times_str]\n",
    "\n",
    "# Calculate radial distances\n",
    "radii_km = altitudes_km +3389.5 \n",
    "\n",
    "\n",
    "# Calculate radial velocities\n",
    "def compute_radial_tangential_velocities(radii, velocities, times):\n",
    "    radial_velocities = []\n",
    "    tangential_velocities = []\n",
    "    \n",
    "    for i in range(len(radii) - 1):\n",
    "        dr = radii[i] - radii[i+1]\n",
    "        dt = times[i] - times[i+1]\n",
    "        vr = dr / dt * 3600  # converting from miles per second to miles per hour\n",
    "        # print(radii,'\\n\\n',radii[i])\n",
    "        # print(vr**2)\n",
    "        vt = math.sqrt(velocities[i]**2 - vr**2)\n",
    "        \n",
    "        radial_velocities.append(vr)\n",
    "        tangential_velocities.append(vt)\n",
    "    \n",
    "    # Append 0 for the final point as there's no next point to compare\n",
    "    radial_velocities.append(0)\n",
    "    tangential_velocities.append(0)\n",
    "    \n",
    "    return radial_velocities, tangential_velocities\n",
    "\n",
    "\n",
    "\n",
    "\n",
    "    \n",
    "\n",
    "\n",
    "\n",
    "\n",
    "radial_velocities, tangential_velocities = compute_radial_tangential_velocities(radii_km, velocities_kph, times_seconds)\n",
    "\n",
    "# Print the results\n",
    "for i in range(len(tangential_velocities)):\n",
    "    print(f\"Time: {times_str[i]}, Radial Velocity: {radial_velocities[i]:.2f} kph, Tangential Velocity: {tangential_velocities[i]:.2f} kph\")\n"
   ]
  },
  {
   "cell_type": "code",
   "execution_count": 14,
   "metadata": {},
   "outputs": [
    {
     "name": "stdout",
     "output_type": "stream",
     "text": [
      "Time: 15:28, distance tangent: 459268.67 kph, Tangential Velocity: 13121.96 kph\n",
      "Time: 14:53, distance tangent: 7261347.25 kph, Tangential Velocity: 15002.78 kph\n",
      "Time: 06:49, distance tangent: 1021662.88 kph, Tangential Velocity: 18575.69 kph\n",
      "Time: 05:54, distance tangent: 1633489.27 kph, Tangential Velocity: 19217.52 kph\n",
      "Time: 04:29, distance tangent: 341087.90 kph, Tangential Velocity: 3966.14 kph\n",
      "Time: 03:03, distance tangent: 28496.86 kph, Tangential Velocity: 1676.29 kph\n",
      "Time: 02:46, distance tangent: 30947.54 kph, Tangential Velocity: 1473.69 kph\n",
      "Time: 02:25, distance tangent: 29033.18 kph, Tangential Velocity: 483.89 kph\n",
      "Time: 01:25, distance tangent: 713.88 kph, Tangential Velocity: 101.98 kph\n",
      "Time: 01:18, distance tangent: 1673.01 kph, Tangential Velocity: 92.94 kph\n",
      "Time: 01:00, distance tangent: 9544.44 kph, Tangential Velocity: 227.25 kph\n",
      "Time: 00:18, distance tangent: 9.46 kph, Tangential Velocity: 4.73 kph\n"
     ]
    }
   ],
   "source": [
    "def compute_distanc(radial_velocities, tangential_velocities, times):\n",
    "\n",
    "    dist_tangent = []\n",
    "\n",
    "    for i in range(len(tangential_velocities) - 1):\n",
    "        dt = times[i] - times[i+1]\n",
    "        vr = radial_velocities  # converting from miles per second to miles per hour\n",
    "        # print(radii,'\\n\\n',radii[i])\n",
    "        # print(vr**2)\n",
    "        vt = tangential_velocities[i]\n",
    "\n",
    "\n",
    "        dist_tangent.append(dt*vt)\n",
    "\n",
    "    return dist_tangent\n",
    "\n",
    "\n",
    "dist_tangent = compute_distanc(radial_velocities, tangential_velocities, times_seconds)\n",
    "# Print the results\n",
    "\n",
    "for i in range(len(dist_tangent)):\n",
    "    print(f\"Time: {times_str[i]}, distance tangent: {dist_tangent[i]:.2f} kph, Tangential Velocity: {tangential_velocities[i]:.2f} kph\")"
   ]
  },
  {
   "cell_type": "code",
   "execution_count": 15,
   "metadata": {},
   "outputs": [
    {
     "data": {
      "text/plain": [
       "10817274.33620846"
      ]
     },
     "execution_count": 15,
     "metadata": {},
     "output_type": "execute_result"
    }
   ],
   "source": [
    "sum(dist_tangent)"
   ]
  },
  {
   "cell_type": "code",
   "execution_count": 16,
   "metadata": {},
   "outputs": [],
   "source": [
    "def get_change_in_angle(start,end,dist_tangent):\n",
    "    total_angle_change = get_angle_crossed(start,end)\n",
    "    total_distance = sum(dist_tangent)\\\n",
    "    \n",
    "    angles_in_km =  total_angle_change/total_distance\n",
    "\n",
    "    angles = []\n",
    "    for i in range(len(dist_tangent)):\n",
    "        dist = dist_tangent[i]\n",
    "        angle = angles_in_km * dist\n",
    "\n",
    "        angles.append(angle)\n",
    "\n",
    "\n",
    "\n",
    "    return angles\n",
    "    "
   ]
  },
  {
   "cell_type": "code",
   "execution_count": 17,
   "metadata": {},
   "outputs": [
    {
     "data": {
      "text/plain": [
       "[array([-0.80050791, -1.70873463]),\n",
       " array([-12.65656969, -27.01624621]),\n",
       " array([-1.78076424, -3.80115357]),\n",
       " array([-2.84718112, -6.07748766]),\n",
       " array([-0.59451815, -1.26903648]),\n",
       " array([-0.04967018, -0.10602413]),\n",
       " array([-0.05394173, -0.11514203]),\n",
       " array([-0.05060499, -0.10801955]),\n",
       " array([-0.00124429, -0.00265602]),\n",
       " array([-0.00291606, -0.00622452]),\n",
       " array([-0.01663602, -0.03551063]),\n",
       " array([-1.64950110e-05, -3.52096412e-05])]"
      ]
     },
     "execution_count": 17,
     "metadata": {},
     "output_type": "execute_result"
    }
   ],
   "source": [
    "angles_changes = get_change_in_angle(start,end,dist_tangent)\n",
    "angles_changes"
   ]
  },
  {
   "cell_type": "code",
   "execution_count": 18,
   "metadata": {},
   "outputs": [
    {
     "data": {
      "text/plain": [
       "array([4753.0294084 , 4647.4084242 , 3520.500276  , 3446.1809548 ,\n",
       "       3405.6577736 , 3403.2437636 , 3401.4413028 , 3399.236507  ,\n",
       "       3393.7808444 , 3393.1853886 , 3391.6887024 , 3389.52208819,\n",
       "       3389.52006525])"
      ]
     },
     "execution_count": 18,
     "metadata": {},
     "output_type": "execute_result"
    }
   ],
   "source": [
    "radii_km"
   ]
  },
  {
   "cell_type": "code",
   "execution_count": 19,
   "metadata": {},
   "outputs": [
    {
     "data": {
      "text/plain": [
       "[(4753.029890412851, 37.36443010087578, 142.3473721781035),\n",
       " [4647.4084242, 24.70786040806419, 115.33112596977541],\n",
       " [3520.500276, 22.927096172469607, 111.52997240324999],\n",
       " [3446.1809548, 20.07991505149018, 105.45248474024038],\n",
       " [3405.6577736, 19.485396903708562, 104.18344825992853],\n",
       " [3403.2437636, 19.435726722495478, 104.07742412563034],\n",
       " [3401.4413028, 19.381784990527994, 103.96228209685735],\n",
       " [3399.236507, 19.331179997444714, 103.8542625476674],\n",
       " [3393.7808444, 19.329935703032046, 103.85160652277091],\n",
       " [3393.1853886, 19.327019640506474, 103.84538200340572],\n",
       " [3391.6887024, 19.31038362283453, 103.80987137451812],\n",
       " [3389.5220881915, 19.310367127823536, 103.80983616487688]]"
      ]
     },
     "execution_count": 19,
     "metadata": {},
     "output_type": "execute_result"
    }
   ],
   "source": [
    "# Calculate radial distances\n",
    "radii_km = altitudes_km +3389.5 \n",
    "\n",
    "\n",
    "def get_shpere_postions(start,angles_changes,radii_km):\n",
    "    start_sph = cartesian_to_spherical(*start)\n",
    "    cords = [start_sph]\n",
    "    for i in range(1,len(dist_tangent)):\n",
    "        cords.append([radii_km[i],cords[i-1][1]+angles_changes[i][0],cords[i-1][2]+angles_changes[i][1]])\n",
    "\n",
    "    return cords\n",
    "\n",
    "sph_cords = get_shpere_postions(start,angles_changes,radii_km)\n",
    "sph_cords"
   ]
  },
  {
   "cell_type": "code",
   "execution_count": 20,
   "metadata": {},
   "outputs": [
    {
     "name": "stdout",
     "output_type": "stream",
     "text": [
      "The coordinates of the spacecraft at time -928 Seconds \n",
      " Spherical:  4753.03 37.36 142.35 \t Cartesian  2903.31 1762.08 -3763.11 \n",
      "\n",
      "\n",
      "The coordinates of the spacecraft at time -893 Seconds \n",
      " Spherical:  4647.41 24.71 115.33 \t Cartesian  4200.44 1755.8 -1988.39 \n",
      "\n",
      "\n",
      "The coordinates of the spacecraft at time -409 Seconds \n",
      " Spherical:  3520.5 22.93 111.53 \t Cartesian  3274.78 1275.75 -1291.98 \n",
      "\n",
      "\n",
      "The coordinates of the spacecraft at time -354 Seconds \n",
      " Spherical:  3446.18 20.08 105.45 \t Cartesian  3321.55 1140.41 -918.2 \n",
      "\n",
      "\n",
      "The coordinates of the spacecraft at time -269 Seconds \n",
      " Spherical:  3405.66 19.49 104.18 \t Cartesian  3301.78 1101.38 -834.48 \n",
      "\n",
      "\n",
      "The coordinates of the spacecraft at time -183 Seconds \n",
      " Spherical:  3403.24 19.44 104.08 \t Cartesian  3300.98 1098.42 -827.78 \n",
      "\n",
      "\n",
      "The coordinates of the spacecraft at time -166 Seconds \n",
      " Spherical:  3401.44 19.38 103.96 \t Cartesian  3300.89 1095.46 -820.71 \n",
      "\n",
      "\n",
      "The coordinates of the spacecraft at time -145 Seconds \n",
      " Spherical:  3399.24 19.33 103.85 \t Cartesian  3300.29 1092.51 -813.96 \n",
      "\n",
      "\n",
      "The coordinates of the spacecraft at time -85 Seconds \n",
      " Spherical:  3393.78 19.33 103.85 \t Cartesian  3295.03 1090.7 -812.5 \n",
      "\n",
      "\n",
      "The coordinates of the spacecraft at time -78 Seconds \n",
      " Spherical:  3393.19 19.33 103.85 \t Cartesian  3294.54 1090.38 -812.0 \n",
      "\n",
      "\n",
      "The coordinates of the spacecraft at time -60 Seconds \n",
      " Spherical:  3391.69 19.31 103.81 \t Cartesian  3293.59 1089.16 -809.6 \n",
      "\n",
      "\n",
      "The coordinates of the spacecraft at time -18 Seconds \n",
      " Spherical:  3389.52 19.31 103.81 \t Cartesian  3291.49 1088.46 -809.08 \n",
      "\n",
      "\n"
     ]
    }
   ],
   "source": [
    "cart_cords = []\n",
    "for ind,cord in enumerate(sph_cords):\n",
    "    cords_xyz = spherical_to_cartesian(*cord)\n",
    "    cart_cords.append(cords_xyz)\n",
    "\n",
    "    print(f\"The coordinates of the spacecraft at time -\"+str(times_seconds[ind]),'Seconds', \"\\n Spherical: \",*np.round(cord,2),\"\\t Cartesian \",*np.round(cords_xyz,2),'\\n\\n')"
   ]
  },
  {
   "cell_type": "code",
   "execution_count": 21,
   "metadata": {},
   "outputs": [
    {
     "data": {
      "text/plain": [
       "[(2903.307884518872, 1762.0809999999994, -3763.1110000000003),\n",
       " (4200.442309033176, 1755.7997860399478, -1988.3887854201546),\n",
       " (3274.780028404988, 1275.7529513092213, -1291.980981817112),\n",
       " (3321.545379546849, 1140.4090877864437, -918.1975165205231),\n",
       " (3301.7821322419863, 1101.38362599762, -834.4791970518446),\n",
       " (3300.9794550691554, 1098.4175657376793, -827.7806481286702),\n",
       " (3300.88741811006, 1095.4557283314768, -820.7102884021442),\n",
       " (3300.288489994309, 1092.5066888179365, -813.957627499491),\n",
       " (3295.029310432226, 1090.6981954421854, -812.4985049206214),\n",
       " (3294.5394303574053, 1090.3778057487914, -811.9980332376084),\n",
       " (3293.588748538154, 1089.1606573619351, -809.5987008195108),\n",
       " (3291.4852979686293, 1088.464170539794, -809.0795056101255)]"
      ]
     },
     "execution_count": 21,
     "metadata": {},
     "output_type": "execute_result"
    }
   ],
   "source": [
    "cart_cords"
   ]
  },
  {
   "cell_type": "code",
   "execution_count": 22,
   "metadata": {},
   "outputs": [
    {
     "data": {
      "text/plain": [
       "13"
      ]
     },
     "execution_count": 22,
     "metadata": {},
     "output_type": "execute_result"
    }
   ],
   "source": [
    "len(times_seconds) "
   ]
  },
  {
   "cell_type": "code",
   "execution_count": 23,
   "metadata": {},
   "outputs": [
    {
     "name": "stdout",
     "output_type": "stream",
     "text": [
      "Time: 928 seconds, Coordinates: x = 2903.307884518872 y = 1762.0809999999994 z = -3763.1110000000003\n",
      "Time: 898 seconds, Coordinates: x = 4015.1373912454183 y = 1756.697102319955 z = -2241.920530360133\n",
      "Time: 893 seconds, Coordinates: x = 4200.442309033176 y = 1755.7997860399478 z = -1988.3887854201546\n",
      "Time: 863 seconds, Coordinates: x = 4143.066547837214 y = 1726.044816945068 z = -1945.2230124695527\n",
      "Time: 833 seconds, Coordinates: x = 4085.6907866412516 y = 1696.2898478501884 z = -1902.057239518951\n",
      "Time: 803 seconds, Coordinates: x = 4028.3150254452894 y = 1666.5348787553085 z = -1858.8914665683492\n",
      "Time: 773 seconds, Coordinates: x = 3970.9392642493276 y = 1636.7799096604288 z = -1815.7256936177473\n",
      "Time: 743 seconds, Coordinates: x = 3913.5635030533654 y = 1607.024940565549 z = -1772.5599206671454\n",
      "Time: 713 seconds, Coordinates: x = 3856.1877418574036 y = 1577.2699714706694 z = -1729.3941477165438\n",
      "Time: 683 seconds, Coordinates: x = 3798.8119806614413 y = 1547.5150023757897 z = -1686.228374765942\n",
      "Time: 653 seconds, Coordinates: x = 3741.4362194654796 y = 1517.7600332809097 z = -1643.06260181534\n",
      "Time: 623 seconds, Coordinates: x = 3684.0604582695173 y = 1488.00506418603 z = -1599.8968288647384\n",
      "Time: 593 seconds, Coordinates: x = 3626.684697073555 y = 1458.2500950911503 z = -1556.7310559141365\n",
      "Time: 563 seconds, Coordinates: x = 3569.3089358775933 y = 1428.4951259962706 z = -1513.5652829635346\n",
      "Time: 533 seconds, Coordinates: x = 3511.9331746816315 y = 1398.740156901391 z = -1470.3995100129328\n",
      "Time: 503 seconds, Coordinates: x = 3454.5574134856693 y = 1368.9851878065112 z = -1427.233737062331\n",
      "Time: 473 seconds, Coordinates: x = 3397.181652289707 y = 1339.2302187116316 z = -1384.0679641117292\n",
      "Time: 443 seconds, Coordinates: x = 3339.8058910937452 y = 1309.4752496167516 z = -1340.9021911611273\n",
      "Time: 413 seconds, Coordinates: x = 3282.430129897783 y = 1279.720280521872 z = -1297.7364182105257\n",
      "Time: 409 seconds, Coordinates: x = 3274.780028404988 y = 1275.7529513092213 z = -1291.980981817112\n",
      "Time: 379 seconds, Coordinates: x = 3300.288401755094 y = 1201.9290257513426 z = -1088.0990916553362\n",
      "Time: 354 seconds, Coordinates: x = 3321.545379546849 y = 1140.4090877864437 z = -918.1975165205231\n",
      "Time: 324 seconds, Coordinates: x = 3314.5701157921917 y = 1126.6353953903883 z = -888.6498743551072\n",
      "Time: 294 seconds, Coordinates: x = 3307.594852037534 y = 1112.8617029943327 z = -859.1022321896912\n",
      "Time: 269 seconds, Coordinates: x = 3301.7821322419863 y = 1101.38362599762 z = -834.4791970518446\n",
      "Time: 239 seconds, Coordinates: x = 3301.5021285770454 y = 1100.3489538139197 z = -832.1424939391094\n",
      "Time: 209 seconds, Coordinates: x = 3301.2221249121044 y = 1099.3142816302195 z = -829.8057908263742\n",
      "Time: 183 seconds, Coordinates: x = 3300.9794550691554 y = 1098.4175657376793 z = -827.7806481286702\n",
      "Time: 166 seconds, Coordinates: x = 3300.88741811006 y = 1095.4557283314768 z = -820.7102884021442\n",
      "Time: 145 seconds, Coordinates: x = 3300.288489994309 y = 1092.5066888179365 z = -813.957627499491\n",
      "Time: 115 seconds, Coordinates: x = 3297.6589002132678 y = 1091.6024421300608 z = -813.2280662100561\n",
      "Time: 85 seconds, Coordinates: x = 3295.029310432226 y = 1090.6981954421854 z = -812.4985049206214\n",
      "Time: 85 seconds, Coordinates: x = 3295.029310432226 y = 1090.6981954421854 z = -812.4985049206214\n",
      "Time: 78 seconds, Coordinates: x = 3294.5394303574053 y = 1090.3778057487914 z = -811.9980332376084\n",
      "Time: 60 seconds, Coordinates: x = 3293.588748538154 y = 1089.1606573619351 z = -809.5987008195108\n",
      "Time: 30 seconds, Coordinates: x = 3292.0862838456364 y = 1088.6631667746915 z = -809.2278470985212\n"
     ]
    }
   ],
   "source": [
    "def interpolate_trajectory(coords, times, step):\n",
    "    interpolated_coords = []\n",
    "    interpolated_times = []\n",
    "    \n",
    "    for i in range(len(coords) - 1):\n",
    "        start_coords = np.array(coords[i])\n",
    "        end_coords = np.array(coords[i + 1])\n",
    "        start_time = times[i]\n",
    "        end_time = times[i + 1]\n",
    "        \n",
    "        num_steps = int((start_time - end_time) / step)\n",
    "        \n",
    "        for j in range(num_steps + 1):\n",
    "            t = j * step\n",
    "            fraction = t / (start_time - end_time)\n",
    "            interpolated_coord = start_coords + fraction * (end_coords - start_coords)\n",
    "            interpolated_time = start_time - t\n",
    "            \n",
    "            interpolated_coords.append(interpolated_coord)\n",
    "            interpolated_times.append(interpolated_time)\n",
    "    \n",
    "    return interpolated_coords, interpolated_times\n",
    "\n",
    "# Example usage:\n",
    "step_size = 30  # in seconds\n",
    "interpolated_coords, interpolated_times = interpolate_trajectory(cart_cords, times_seconds, step_size)\n",
    "\n",
    "# Print the results\n",
    "for coord, time in zip(interpolated_coords, interpolated_times):\n",
    "    print(f\"Time: {time:.0f} seconds, Coordinates:\", *[f\"{o} = {p}\" for o,p in  zip(['x','y','z'],coord)])"
   ]
  },
  {
   "cell_type": "code",
   "execution_count": 24,
   "metadata": {},
   "outputs": [],
   "source": [
    "def interpolate_trajectory(coords, times, step):\n",
    "    interpolated_coords = []\n",
    "    interpolated_times = []\n",
    "    \n",
    "    for i in range(len(coords) - 1):\n",
    "        start_coords = np.array(coords[i])\n",
    "        end_coords = np.array(coords[i + 1])\n",
    "        start_time = times[i]\n",
    "        end_time = times[i + 1]\n",
    "        \n",
    "        num_steps = int((start_time - end_time) / step)\n",
    "        \n",
    "        for j in range(num_steps + 1):\n",
    "            t = j * step\n",
    "            fraction = t / (start_time - end_time)\n",
    "            interpolated_coord = start_coords + fraction * (end_coords - start_coords)\n",
    "            interpolated_time = start_time - t\n",
    "            \n",
    "            interpolated_coords.append(interpolated_coord)\n",
    "            interpolated_times.append(interpolated_time)\n",
    "    \n",
    "    return interpolated_coords, interpolated_times\n",
    "\n",
    "# Example usage:\n",
    "step_size = 30  # in seconds\n",
    "interpolated_coords, interpolated_times = interpolate_trajectory(cart_cords, times_seconds, step_size)\n",
    "f= open('Output.csv','w')\n",
    "f.write('Time,x,y,z\\n')\n",
    "# Print the results\n",
    "for coord, time in zip(interpolated_coords, interpolated_times):\n",
    "    f.write(f\"{round(time)},{round(coord[0])},{round(coord[1])},{round(coord[2])}\\n\")"
   ]
  },
  {
   "cell_type": "code",
   "execution_count": 25,
   "metadata": {},
   "outputs": [],
   "source": [
    "def interpolate_trajectory(coords, times, step):\n",
    "    interpolated_coords = []\n",
    "    interpolated_times = []\n",
    "    \n",
    "    for i in range(len(coords) - 1):\n",
    "        start_coords = np.array(coords[i])\n",
    "        end_coords = np.array(coords[i + 1])\n",
    "        start_time = times[i]\n",
    "        end_time = times[i + 1]\n",
    "        \n",
    "        num_steps = int((start_time - end_time) / step)\n",
    "        \n",
    "        for j in range(num_steps + 1):\n",
    "            t = j * step\n",
    "            fraction = t / (start_time - end_time)\n",
    "            interpolated_coord = start_coords + fraction * (end_coords - start_coords)\n",
    "            interpolated_time = start_time - t\n",
    "            \n",
    "            interpolated_coords.append(interpolated_coord)\n",
    "            interpolated_times.append(interpolated_time)\n",
    "    \n",
    "    return interpolated_coords, interpolated_times\n",
    "\n",
    "# Example usage:\n",
    "step_size = 1  # in seconds\n",
    "interpolated_coords, interpolated_times = interpolate_trajectory(cart_cords, times_seconds, step_size)\n",
    "f= open('Output2.csv','w')\n",
    "f.write('Time,x,y,z\\n')\n",
    "# Print the results\n",
    "for coord, time in zip(interpolated_coords, interpolated_times):\n",
    "    f.write(f\"{round(time)},{round(coord[0])},{round(coord[1])},{round(coord[2])}\\n\")"
   ]
  }
 ],
 "metadata": {
  "kernelspec": {
   "display_name": "Python 3",
   "language": "python",
   "name": "python3"
  },
  "language_info": {
   "codemirror_mode": {
    "name": "ipython",
    "version": 3
   },
   "file_extension": ".py",
   "mimetype": "text/x-python",
   "name": "python",
   "nbconvert_exporter": "python",
   "pygments_lexer": "ipython3",
   "version": "3.11.9"
  }
 },
 "nbformat": 4,
 "nbformat_minor": 2
}
